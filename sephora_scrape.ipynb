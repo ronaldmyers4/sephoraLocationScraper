{
 "cells": [
  {
   "cell_type": "code",
   "execution_count": null,
   "metadata": {},
   "outputs": [],
   "source": [
    "from selenium import webdriver\n",
    "from selenium.webdriver.common.by import By\n",
    "from selenium.webdriver.support.ui import WebDriverWait\n",
    "from selenium.webdriver.support import expected_conditions as EC\n",
    "from selenium.webdriver.chrome.options import Options\n",
    "import pandas as pd\n",
    "import numpy as np\n",
    "import datetime"
   ]
  },
  {
   "cell_type": "code",
   "execution_count": null,
   "metadata": {},
   "outputs": [],
   "source": [
    "#Example Chrome driver code\n",
    "driver_path = r'C:\\Users\\r0m03qp\\OneDrive - Walmart Inc\\EDL Analytics\\chromedriver'\n",
    "driver = webdriver.Chrome(executable_path=driver_path)\n",
    "driver.get('https://google.com')"
   ]
  },
  {
   "cell_type": "code",
   "execution_count": null,
   "metadata": {},
   "outputs": [],
   "source": [
    "#Example Firefox driver code\n",
    "driver_path = r'C:\\Users\\r0m03qp\\OneDrive - Walmart Inc\\EDL Analytics\\geckodriver'\n",
    "driver = webdriver.Firefox(executable_path=driver_path)\n",
    "driver.get('https://google.com')"
   ]
  },
  {
   "cell_type": "code",
   "execution_count": null,
   "metadata": {},
   "outputs": [],
   "source": [
    "#Option to run \"headless\" meaning no graphical interface\n",
    "options = Options()\n",
    "options.headless = True\n",
    "options.add_argument(\"--window-size=1920,1200\")\n",
    "\n",
    "driver = webdriver.Chrome(options=options, executable_path=driver_path)\n",
    "driver.get(\"https://www.nintendo.com/\")\n",
    "print(driver.page_source)\n",
    "driver.quit()"
   ]
  },
  {
   "cell_type": "code",
   "execution_count": null,
   "metadata": {},
   "outputs": [],
   "source": [
    "#Selenium API selectable elements on a page:\n",
    "# Tag Name\n",
    "# Class Name\n",
    "# IDs\n",
    "# XPath\n",
    "# CSS Selectors"
   ]
  },
  {
   "cell_type": "code",
   "execution_count": null,
   "metadata": {},
   "outputs": [],
   "source": [
    "url = r'https://www.sephora.com/happening/storelist'\n",
    "driver.get(url)"
   ]
  },
  {
   "cell_type": "code",
   "execution_count": null,
   "metadata": {},
   "outputs": [],
   "source": [
    "sephora_links = []\n",
    "links = driver.find_elements_by_xpath(\"//a[@class='css-121wlog e65zztl0']\") #css-121wlog e65zztl0\n",
    "for link in links:\n",
    "    sephora_links.append(link.get_attribute('href'))\n",
    "    \n",
    "sephoraDF = pd.DataFrame(sephora_links)\n",
    "sephoraDF.columns = ['URLs']"
   ]
  },
  {
   "cell_type": "code",
   "execution_count": null,
   "metadata": {},
   "outputs": [],
   "source": [
    "sephoraDF.head()"
   ]
  },
  {
   "cell_type": "code",
   "execution_count": null,
   "metadata": {},
   "outputs": [],
   "source": [
    "driver.get(sephoraDF['URLs'][0])\n",
    "#driver.find_element_by_xpath(\"//div[@class='css-1mmzpd2 e65zztl0']//p[@class='css-0 e65zztl0']\").text\n",
    "driver.find_element_by_xpath(\"//div[@class='css-onq7do e65zztl0']//p[@class='css-0 e65zztl0']\").text"
   ]
  },
  {
   "cell_type": "code",
   "execution_count": null,
   "metadata": {},
   "outputs": [],
   "source": [
    "def get_address(url):\n",
    "    # returns the address of a Sephora location in the URL\n",
    "    driver.get(url)\n",
    "    try:\n",
    "        return driver.find_element_by_xpath(\"//div[@class='css-onq7do e65zztl0']//p[@class='css-0 e65zztl0']\").text\n",
    "    except:\n",
    "        return ''"
   ]
  },
  {
   "cell_type": "code",
   "execution_count": null,
   "metadata": {},
   "outputs": [],
   "source": [
    "sephoraDF['Store_Location'] = sephoraDF['URLs'].apply(lambda x: get_address(x))"
   ]
  },
  {
   "cell_type": "code",
   "execution_count": null,
   "metadata": {},
   "outputs": [],
   "source": [
    "sephora_address = []"
   ]
  },
  {
   "cell_type": "code",
   "execution_count": null,
   "metadata": {},
   "outputs": [],
   "source": [
    "for i in range(620, len(sephoraDF)):\n",
    "    try:\n",
    "        address = get_address(sephoraDF['URLs'][i])\n",
    "        sephora_address.append(address)\n",
    "        print(address)\n",
    "    except:\n",
    "        sephora_address.append(\"No Address\")\n",
    "        print(address)"
   ]
  },
  {
   "cell_type": "code",
   "execution_count": null,
   "metadata": {},
   "outputs": [],
   "source": [
    "len(sephora_address)"
   ]
  },
  {
   "cell_type": "code",
   "execution_count": null,
   "metadata": {},
   "outputs": [],
   "source": [
    "sephora_addressDF = pd.DataFrame(sephora_address)\n",
    "sephora_addressDF.to_csv(r'C:\\Users\\r0m03qp\\OneDrive - Walmart Inc\\EDL Analytics\\Ad Hoc\\sephora_address_5.csv')"
   ]
  },
  {
   "cell_type": "code",
   "execution_count": null,
   "metadata": {},
   "outputs": [],
   "source": [
    "sephora_address.append(get_address(sephoraDF['URLs'][247]))"
   ]
  },
  {
   "cell_type": "code",
   "execution_count": null,
   "metadata": {},
   "outputs": [],
   "source": []
  }
 ],
 "metadata": {
  "kernelspec": {
   "display_name": "Python 3",
   "language": "python",
   "name": "python3"
  },
  "language_info": {
   "codemirror_mode": {
    "name": "ipython",
    "version": 3
   },
   "file_extension": ".py",
   "mimetype": "text/x-python",
   "name": "python",
   "nbconvert_exporter": "python",
   "pygments_lexer": "ipython3",
   "version": "3.7.3"
  }
 },
 "nbformat": 4,
 "nbformat_minor": 2
}
